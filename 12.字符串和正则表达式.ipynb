{
 "cells": [
  {
   "cell_type": "code",
   "execution_count": 5,
   "metadata": {},
   "outputs": [
    {
     "name": "stdout",
     "output_type": "stream",
     "text": [
      "请输入用户名: 218372/\n",
      "请输入QQ号: 12739879/\n",
      "请重新输入用户名: 127397921\n",
      "请重新输入QQ号: 12873987\n",
      "你输入的信息是有效的!\n"
     ]
    }
   ],
   "source": [
    "\"\"\"\n",
    "验证输入用户名和QQ号是否有效并给出对应的提示信息\n",
    "\n",
    "要求：用户名必须由字母、数字或下划线构成且长度在6~20个字符之间，QQ号是5~12的数字且首位不能为0\n",
    "\"\"\"\n",
    "import re\n",
    "\n",
    "\n",
    "def main():\n",
    "    username = input('请输入用户名: ')\n",
    "    qq = input('请输入QQ号: ')\n",
    "    # match函数的第一个参数是正则表达式字符串或正则表达式对象\n",
    "    # 第二个参数是要跟正则表达式做匹配的字符串对象\n",
    "    m1 = re.match(r'^[0-9a-zA-Z_]{6,20}$', username)\n",
    "    while not m1:\n",
    "        username = input('请重新输入用户名: ')\n",
    "        m1 = re.match(r'^[0-9a-zA-Z_]{6,20}$', username)\n",
    "    m2 = re.match(r'^[1-9]\\d{4,11}$', qq)\n",
    "    while not m2:\n",
    "        qq = input('请重新输入QQ号: ')\n",
    "        m2 = re.match(r'^[1-9]\\d{4,11}$', qq)\n",
    "    if m1 and m2:\n",
    "        print('你输入的信息是有效的!')\n",
    "\n",
    "\n",
    "if __name__ == '__main__':\n",
    "    main()"
   ]
  },
  {
   "cell_type": "markdown",
   "metadata": {},
   "source": [
    "# 三大运营商号段\n",
    "电信133，，149，153，173，174，177，180，181，189，199\n",
    "\n",
    "联通130，131，132，145，146，155，156，166，171，175，176，185，186，145，176，185，186\n",
    "\n",
    "移动134，135，136，137，138，139，147，148，150，151，152，157，158，159，172，178，182，183，184，187，188，198\n",
    "\n",
    "虚拟170\n",
    "\n",
    "正则表达式为：^((+86)?(13\\d|14[5-9]|15[0-35-9]|166|17[0-8]|18\\d|19[8-9])\\d{8})$\n",
    "\n",
    "(r'(?<=\\D)(13\\d|14[5-9]|15[0-35-9]|166|17[0-8]|18\\d|19[8-9])\\d{8}(?=\\D)')"
   ]
  },
  {
   "cell_type": "code",
   "execution_count": 31,
   "metadata": {},
   "outputs": [
    {
     "name": "stdout",
     "output_type": "stream",
     "text": [
      "['199', '135', '156', '156']\n",
      "--------华丽的分隔线--------\n",
      "19997756555\n",
      "13512346789\n",
      "15600998765\n",
      "15600998765\n",
      "--------华丽的分隔线--------\n",
      "19997756555\n",
      "13512346789\n",
      "15600998765\n",
      "15600998765\n"
     ]
    }
   ],
   "source": [
    "import re\n",
    "\n",
    "\n",
    "def main():\n",
    "    # 创建正则表达式对象 使用了前瞻和回顾来保证手机号前后不应该出现数字\n",
    "#     pattern = re.compile(r'(?<=\\D)1[3456789]\\d{9}(?=\\D)')\n",
    "    pattern = re.compile(r'(?<=\\D)(13\\d|14[5-9]|15[0-35-9]|166|17[0-8]|18\\d|19[8-9])\\d{8}(?=\\D)')\n",
    "    sentence = '''\n",
    "    重要的事情说130123456789遍，19997756555我的手机号是13512346789这个靓号，\n",
    "    不是15600998765，也是110或119，王大锤的手机号才是15600998765。\n",
    "    '''\n",
    "    # 查找所有匹配并保存到一个列表中\n",
    "    mylist = re.findall(pattern, sentence)\n",
    "    print(mylist)\n",
    "    print('--------华丽的分隔线--------')\n",
    "    # 通过迭代器取出匹配对象并获得匹配的内容\n",
    "    for temp in pattern.finditer(sentence):\n",
    "        print(temp.group())\n",
    "    print('--------华丽的分隔线--------')\n",
    "    # 通过search函数指定搜索位置找出所有匹配\n",
    "    m = pattern.search(sentence)\n",
    "    while m:\n",
    "        print(m.group())\n",
    "        m = pattern.search(sentence, m.end())\n",
    "\n",
    "\n",
    "if __name__ == '__main__':\n",
    "    main()"
   ]
  },
  {
   "cell_type": "markdown",
   "metadata": {},
   "source": [
    "# 替换字符串"
   ]
  },
  {
   "cell_type": "code",
   "execution_count": 32,
   "metadata": {},
   "outputs": [
    {
     "name": "stdout",
     "output_type": "stream",
     "text": [
      "你丫是*吗? 我*你大爷的. * you.\n"
     ]
    }
   ],
   "source": [
    "import re\n",
    "\n",
    "\n",
    "def main():\n",
    "    sentence = '你丫是傻叉吗? 我操你大爷的. Fuck you.'\n",
    "    purified = re.sub('[操肏艹]|fuck|shit|傻[比屄逼叉缺吊屌]|煞笔',\n",
    "                      '*', sentence, flags=re.IGNORECASE)\n",
    "    print(purified)  # 你丫是*吗? 我*你大爷的. * you.\n",
    "\n",
    "\n",
    "if __name__ == '__main__':\n",
    "    main()"
   ]
  },
  {
   "cell_type": "markdown",
   "metadata": {},
   "source": [
    "# 拆分长字符串"
   ]
  },
  {
   "cell_type": "code",
   "execution_count": 66,
   "metadata": {},
   "outputs": [
    {
     "name": "stdout",
     "output_type": "stream",
     "text": [
      "['窗前明月光', '疑是地上霜', '举头望明月', '低头思故乡']\n"
     ]
    }
   ],
   "source": [
    "import re\n",
    "\n",
    "\n",
    "def main():\n",
    "    poem = '窗前明月光，疑是地上霜。举头望明月，低头思故乡。'\n",
    "    sentence_list = re.split(r'[，。, .]', poem)\n",
    "#     sentence_list = poem.split('，')#只能以一个指定字符匹配分割\n",
    "    while '' in sentence_list:\n",
    "        sentence_list.remove('')\n",
    "    print(sentence_list)  # ['窗前明月光', '疑是地上霜', '举头望明月', '低头思故乡']\n",
    "if __name__ == '__main__':\n",
    "    main()"
   ]
  },
  {
   "cell_type": "code",
   "execution_count": 71,
   "metadata": {},
   "outputs": [
    {
     "name": "stdout",
     "output_type": "stream",
     "text": [
      "['this', 'is', 'a', 'test']\n",
      "['', 't', 'h', 'i', 's', '_', 'i', 's', '#', 'a', '|', 't', 'e', 's', 't', '']\n"
     ]
    }
   ],
   "source": [
    "print(re.split('[_#|]','this_is#a|test'))\n",
    "print(re.split('_#|','this_is#a|test'))"
   ]
  },
  {
   "cell_type": "markdown",
   "metadata": {},
   "source": [
    "# Beautiful Soup或Lxml来进行匹配和信息的提取，前者简单方便但是性能较差，后者既好用性能也好，但是安装稍嫌麻烦"
   ]
  },
  {
   "cell_type": "code",
   "execution_count": 88,
   "metadata": {},
   "outputs": [
    {
     "name": "stdout",
     "output_type": "stream",
     "text": [
      "My brother's name is '007'\n",
      "My brother\\'s name is \\'007\\'\n",
      "True\n",
      "False\n",
      "False\n",
      "True\n",
      "False\n",
      "True\n",
      "True\n",
      "床前明月光-疑是地上霜-举头望明月-低头思故乡\n",
      "['You', 'go', 'your', 'way', 'I', 'will', 'go', 'mine']\n",
      "     jackfrued@126.com          \n",
      "jackfrued@126.com\n",
      "jackfrued@126.com          \n",
      "老虎不发猫你当我病危呀\n"
     ]
    }
   ],
   "source": [
    "\"\"\"\n",
    "字符串常用操作\n",
    "\"\"\"\n",
    "\n",
    "import pyperclip\n",
    "\n",
    "# 转义字符\n",
    "print('My brother\\'s name is \\'007\\'')\n",
    "# 原始字符串\n",
    "print(r'My brother\\'s name is \\'007\\'')\n",
    "\n",
    "str = 'hello123world'\n",
    "print('he' in str)\n",
    "print('her' in str)\n",
    "# 字符串是否只包含字母\n",
    "print(str.isalpha())\n",
    "# 字符串是否只包含字母和数字\n",
    "print(str.isalnum())\n",
    "# 字符串是否只包含数字\n",
    "print(str.isdecimal())\n",
    "\n",
    "print(str[0:5].isalpha())\n",
    "print(str[5:8].isdecimal())\n",
    "\n",
    "list = ['床前明月光', '疑是地上霜', '举头望明月', '低头思故乡']\n",
    "print('-'.join(list))\n",
    "sentence = 'You go your way I will go mine'\n",
    "words_list = sentence.split()\n",
    "print(words_list)\n",
    "email = '     jackfrued@126.com          '\n",
    "print(email)\n",
    "print(email.strip())\n",
    "print(email.lstrip())\n",
    "\n",
    "# 将文本放入系统剪切板中\n",
    "pyperclip.copy('老虎不发猫你当我病危呀')\n",
    "# 从系统剪切板获得文本\n",
    "print(pyperclip.paste())"
   ]
  },
  {
   "cell_type": "code",
   "execution_count": 87,
   "metadata": {},
   "outputs": [
    {
     "name": "stdout",
     "output_type": "stream",
     "text": [
      "nohtyP evol I\n",
      "I love Python\n",
      "nohtyP evol I\n",
      "I love Python\n",
      "nohtyP evol I\n",
      "I love Python\n",
      "nohtyP evol I\n",
      "I love Python\n",
      "nohtyP evol I\n",
      "I love Python\n",
      "nohtyP evol I\n",
      "I love Python\n"
     ]
    }
   ],
   "source": [
    "\"\"\"\n",
    "字符串常用操作 - 实现字符串倒转的方法\n",
    "\"\"\"\n",
    "\n",
    "from io import StringIO\n",
    "from collections import deque\n",
    "\n",
    "def reverse_str1(str):\n",
    "    return str[::-1]\n",
    "\n",
    "\n",
    "def reverse_str2(str):#递归的方式, 每次输出一个字符;\n",
    "    if len(str) <= 1:\n",
    "        return str\n",
    "    return reverse_str2(str[1:]) + str[0:1]\n",
    "\n",
    "\n",
    "def reverse_str3(str):\n",
    "    # StringIO对象是Python中的可变字符串\n",
    "    # 不应该使用不变字符串做字符串连接操作 因为会产生很多无用字符串对象\n",
    "    rstr = StringIO()\n",
    "    str_len = len(str)\n",
    "    for index in range(str_len - 1, -1, -1):\n",
    "        rstr.write(str[index])\n",
    "    return rstr.getvalue()\n",
    "\n",
    "\n",
    "def reverse_str4(str):\n",
    "    return ''.join(str[index] for index in range(len(str) - 1, -1, -1))\n",
    "\n",
    "\n",
    "def reverse_str5(str):\n",
    "    # 将字符串处理成列表\n",
    "    str_list = list(str)\n",
    "    str_len = len(str)\n",
    "    # 使用zip函数将两个序列合并成一个产生元组的迭代器\n",
    "    # 每次正好可以取到一前一后两个下标来实现元素的交换\n",
    "    for i, j in zip(range(str_len // 2), range(str_len - 1, str_len // 2, -1)):\n",
    "        str_list[i], str_list[j] = str_list[j], str_list[i]\n",
    "    # 将列表元素连接成字符串\n",
    "    return ''.join(str_list)\n",
    "\n",
    "def string_reverse2(str):\n",
    "    t = list(str)\n",
    "    l = len(t)\n",
    "    for i,j in zip(range(l-1, 0, -1), range(l//2)):\n",
    "        t[i], t[j] = t[j], t[i]\n",
    "    return \"\".join(t)\n",
    " \n",
    "def string_reverse4(str):\n",
    "    d = deque()\n",
    "    d.extendleft(str)\n",
    "    return ''.join(d)\n",
    " \n",
    "def string_reverse5(str):\n",
    "    #return ''.join(string[len(string) - i] for i in range(1, len(string)+1))\n",
    "    return ''.join(str[i] for i in range(len(str)-1, -1, -1))\n",
    "\n",
    "if __name__ == '__main__':\n",
    "    str = 'I love Python'\n",
    "    print(reverse_str1(str))\n",
    "    print(str)\n",
    "    print(reverse_str2(str))\n",
    "    print(str)\n",
    "    print(reverse_str3(str))\n",
    "    print(str)\n",
    "    print(reverse_str4(str))\n",
    "    print(str)\n",
    "#     print(reverse_str5(str))\n",
    "#     print(str)\n",
    "#     print(string_reverse2(str))\n",
    "#     print(str)\n",
    "    print(string_reverse4(str))\n",
    "    print(str)\n",
    "    print(string_reverse5(str))\n",
    "    print(str)"
   ]
  }
 ],
 "metadata": {
  "kernelspec": {
   "display_name": "Python 3",
   "language": "python",
   "name": "python3"
  },
  "language_info": {
   "codemirror_mode": {
    "name": "ipython",
    "version": 3
   },
   "file_extension": ".py",
   "mimetype": "text/x-python",
   "name": "python",
   "nbconvert_exporter": "python",
   "pygments_lexer": "ipython3",
   "version": "3.7.3"
  }
 },
 "nbformat": 4,
 "nbformat_minor": 2
}
